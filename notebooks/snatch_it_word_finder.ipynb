{
 "cells": [
  {
   "cell_type": "code",
   "execution_count": 43,
   "metadata": {},
   "outputs": [],
   "source": [
    "import pandas as pd\n",
    "from random import sample"
   ]
  },
  {
   "cell_type": "code",
   "execution_count": 47,
   "metadata": {},
   "outputs": [
    {
     "name": "stdout",
     "output_type": "stream",
     "text": [
      "370104\n"
     ]
    }
   ],
   "source": [
    "wl = open(\"../english-words/words_alpha.txt\", 'r')\n",
    "wordlist = [i.rstrip() for i in wl.readlines()]\n",
    "# wordlist = sample(wordlist, 5000)\n",
    "print(len(wordlist))"
   ]
  },
  {
   "cell_type": "code",
   "execution_count": 48,
   "metadata": {},
   "outputs": [
    {
     "name": "stdout",
     "output_type": "stream",
     "text": [
      "                   0  A  B  C  D  E  F  G  H  I  ...  R  S  T  U  V  W  X  Y  \\\n",
      "0                  a  1  0  0  0  0  0  0  0  0  ...  0  0  0  0  0  0  0  0   \n",
      "1                 aa  2  0  0  0  0  0  0  0  0  ...  0  0  0  0  0  0  0  0   \n",
      "2                aaa  3  0  0  0  0  0  0  0  0  ...  0  0  0  0  0  0  0  0   \n",
      "3                aah  2  0  0  0  0  0  0  1  0  ...  0  0  0  0  0  0  0  0   \n",
      "4              aahed  2  0  0  1  1  0  0  1  0  ...  0  0  0  0  0  0  0  0   \n",
      "...              ... .. .. .. .. .. .. .. .. ..  ... .. .. .. .. .. .. .. ..   \n",
      "370099  zwinglianism  1  0  0  0  0  0  1  0  3  ...  0  1  0  0  0  1  0  0   \n",
      "370100  zwinglianist  1  0  0  0  0  0  1  0  3  ...  0  1  1  0  0  1  0  0   \n",
      "370101       zwitter  0  0  0  0  1  0  0  0  1  ...  1  0  2  0  0  1  0  0   \n",
      "370102    zwitterion  0  0  0  0  1  0  0  0  2  ...  1  0  2  0  0  1  0  0   \n",
      "370103  zwitterionic  0  0  1  0  1  0  0  0  3  ...  1  0  2  0  0  1  0  0   \n",
      "\n",
      "        Z  length  \n",
      "0       0       1  \n",
      "1       0       2  \n",
      "2       0       3  \n",
      "3       0       3  \n",
      "4       0       5  \n",
      "...    ..     ...  \n",
      "370099  1      12  \n",
      "370100  1      12  \n",
      "370101  1       7  \n",
      "370102  1      10  \n",
      "370103  1      12  \n",
      "\n",
      "[370104 rows x 28 columns]\n"
     ]
    }
   ],
   "source": [
    "df = pd.DataFrame(wordlist)\n",
    "df[\"A\"] = 0\n",
    "df[\"B\"] = 0\n",
    "df[\"C\"] = 0\n",
    "df[\"D\"] = 0\n",
    "df[\"E\"] = 0\n",
    "df[\"F\"] = 0\n",
    "df[\"G\"] = 0\n",
    "df[\"H\"] = 0\n",
    "df[\"I\"] = 0\n",
    "df[\"J\"] = 0\n",
    "df[\"K\"] = 0\n",
    "df[\"L\"] = 0\n",
    "df[\"M\"] = 0\n",
    "df[\"N\"] = 0\n",
    "df[\"O\"] = 0\n",
    "df[\"P\"] = 0\n",
    "df[\"Q\"] = 0\n",
    "df[\"R\"] = 0\n",
    "df[\"S\"] = 0\n",
    "df[\"T\"] = 0\n",
    "df[\"U\"] = 0\n",
    "df[\"V\"] = 0\n",
    "df[\"W\"] = 0\n",
    "df[\"X\"] = 0\n",
    "df[\"Y\"] = 0\n",
    "df[\"Z\"] = 0\n",
    "df[\"length\"] = 0\n",
    "\n",
    "\n",
    "\n",
    "for index, row in df.iterrows():\n",
    "    df.at[index, \"length\"] = len(row[0])\n",
    "    for letter in row[0]:\n",
    "        if letter == 'a':\n",
    "            df.at[index, \"A\"] += 1\n",
    "        if letter == 'b':\n",
    "            df.at[index, \"B\"] += 1\n",
    "        if letter == 'c':\n",
    "            df.at[index, \"C\"] += 1\n",
    "        if letter == 'd':\n",
    "            df.at[index, \"D\"] += 1\n",
    "        if letter == 'e':\n",
    "            df.at[index, \"E\"] += 1\n",
    "        if letter == 'f':\n",
    "            df.at[index, \"F\"] += 1\n",
    "        if letter == 'g':\n",
    "            df.at[index, \"G\"] += 1\n",
    "        if letter == 'h':\n",
    "            df.at[index, \"H\"] += 1\n",
    "        if letter == 'i':\n",
    "            df.at[index, \"I\"] += 1\n",
    "        if letter == 'j':\n",
    "            df.at[index, \"J\"] += 1\n",
    "        if letter == 'k':\n",
    "            df.at[index, \"K\"] += 1\n",
    "        if letter == 'l':\n",
    "            df.at[index, \"L\"] += 1\n",
    "        if letter == 'm':\n",
    "            df.at[index, \"M\"] += 1\n",
    "        if letter == 'n':\n",
    "            df.at[index, \"N\"] += 1\n",
    "        if letter == 'o':\n",
    "            df.at[index, \"O\"] += 1\n",
    "        if letter == 'p':\n",
    "            df.at[index, \"P\"] += 1\n",
    "        if letter == 'q':\n",
    "            df.at[index, \"Q\"] += 1\n",
    "        if letter == 'r':\n",
    "            df.at[index, \"R\"] += 1\n",
    "        if letter == 's':\n",
    "            df.at[index, \"S\"] += 1\n",
    "        if letter == 't':\n",
    "            df.at[index, \"T\"] += 1\n",
    "        if letter == 'u':\n",
    "            df.at[index, \"U\"] += 1\n",
    "        if letter == 'v':\n",
    "            df.at[index, \"V\"] += 1\n",
    "        if letter == 'w':\n",
    "            df.at[index, \"W\"] += 1\n",
    "        if letter == 'x':\n",
    "            df.at[index, \"X\"] += 1\n",
    "        if letter == 'y':\n",
    "            df.at[index, \"Y\"] += 1\n",
    "        if letter == 'z':\n",
    "            df.at[index, \"Z\"] += 1\n",
    "\n",
    "\n",
    "print(df)"
   ]
  },
  {
   "cell_type": "code",
   "execution_count": 90,
   "metadata": {},
   "outputs": [
    {
     "name": "stdout",
     "output_type": "stream",
     "text": [
      "63217         colonel\n",
      "63089        collogen\n",
      "63220        colonels\n",
      "210897       oconnell\n",
      "63218       colonelcy\n",
      "233371      phenocoll\n",
      "69424       corolline\n",
      "66878      consolable\n",
      "62841      collarbone\n",
      "198377     neological\n",
      "67805      controlled\n",
      "67806      controller\n",
      "62901      collection\n",
      "100803     enological\n",
      "209352     nucleoloid\n",
      "69442      coronalled\n",
      "201997     nonclosely\n",
      "70588      counsellor\n",
      "243063     ponticello\n",
      "63105      collophane\n",
      "210811     ocellation\n",
      "62955     collembolan\n",
      "62873     collationer\n",
      "62904     collections\n",
      "243064    ponticellos\n",
      "62825     collagenous\n",
      "146806    yellowcrown\n",
      "300490    splenocolic\n",
      "61347     coccionella\n",
      "60363     cloisonless\n",
      "60073     clinochlore\n",
      "58875     citronellol\n",
      "57191     cycloolefin\n",
      "55466     cholestanol\n",
      "55235     chlorphenol\n",
      "62842     collarbones\n",
      "63061     collyweston\n",
      "63230     colonialise\n",
      "63219     colonelcies\n",
      "246245    precolonial\n",
      "78557     decollation\n",
      "71060     counterroll\n",
      "70589     counsellors\n",
      "70334     cotyledonal\n",
      "68154     convolutely\n",
      "67809     controlless\n",
      "296612    solemncholy\n",
      "67807     controllers\n",
      "127511    goldenlocks\n",
      "211477    oenological\n",
      "Name: 0, dtype: object\n"
     ]
    },
    {
     "name": "stderr",
     "output_type": "stream",
     "text": [
      "/Users/joch/opt/anaconda3/lib/python3.7/site-packages/ipykernel_launcher.py:1: UserWarning: Boolean Series key will be reindexed to match DataFrame index.\n",
      "  \"\"\"Entry point for launching an IPython kernel.\n"
     ]
    }
   ],
   "source": [
    "my_words = df[df[\"C\"] >= 1][df[\"O\"] >= 2][df[\"L\"] >= 2][df[\"N\"] >= 1][df[\"E\"] >= 1].sort_values(by=\"length\")\n",
    "my_words = my_words[0]\n",
    "print(my_words[:50])"
   ]
  },
  {
   "cell_type": "code",
   "execution_count": 86,
   "metadata": {},
   "outputs": [
    {
     "name": "stdout",
     "output_type": "stream",
     "text": [
      "264805                   reestablished\n",
      "88036                   disestablisher\n",
      "247350                  preestablished\n",
      "255916               publicheartedness\n",
      "36130              blepharosyndesmitis\n",
      "36113             blepharohematidrosis\n",
      "234418            phlebarteriodialysis\n",
      "88040            disestablishmentarian\n",
      "88041         disestablishmentarianism\n",
      "15118        antidisestablishmentarian\n",
      "15119     antidisestablishmentarianism\n",
      "Name: 0, dtype: object\n"
     ]
    },
    {
     "name": "stderr",
     "output_type": "stream",
     "text": [
      "/Users/joch/opt/anaconda3/lib/python3.7/site-packages/ipykernel_launcher.py:1: UserWarning: Boolean Series key will be reindexed to match DataFrame index.\n",
      "  \"\"\"Entry point for launching an IPython kernel.\n"
     ]
    }
   ],
   "source": [
    "my_words = df[df[\"R\"] >= 1][df[\"E\"] >= 2][df[\"S\"] >= 2][df[\"T\"] >= 1][df[\"A\"] >= 1][df[\"B\"] >= 1][df[\"L\"] >= 1][df[\"I\"] >= 1][df[\"H\"] >= 1][df[\"D\"] >= 1].sort_values(by=\"length\")\n",
    "my_words = my_words[0]\n",
    "print(my_words[:50])"
   ]
  },
  {
   "cell_type": "code",
   "execution_count": 89,
   "metadata": {},
   "outputs": [
    {
     "name": "stdout",
     "output_type": "stream",
     "text": [
      "179063           mandrake\n",
      "179064          mandrakes\n",
      "46187          candymaker\n",
      "167989         landmarker\n",
      "122116        gardenmaker\n",
      "40207         breadmaking\n",
      "46212         candlemaker\n",
      "80381         demarkation\n",
      "272419        ribandmaker\n",
      "345428       unlandmarked\n",
      "7759         aldermanlike\n",
      "71879        cradlemaking\n",
      "322578       threadmaking\n",
      "122117       gardenmaking\n",
      "327260      tradesmanlike\n",
      "5599        afrikanderdom\n",
      "99827       endokaryogamy\n",
      "5600        afrikanderism\n",
      "354088      unwatermarked\n",
      "276932     salamanderlike\n",
      "87862      disembarkation\n",
      "87863     disembarkations\n",
      "353194    untradesmanlike\n",
      "Name: 0, dtype: object\n"
     ]
    },
    {
     "name": "stderr",
     "output_type": "stream",
     "text": [
      "/Users/joch/opt/anaconda3/lib/python3.7/site-packages/ipykernel_launcher.py:1: UserWarning: Boolean Series key will be reindexed to match DataFrame index.\n",
      "  \"\"\"Entry point for launching an IPython kernel.\n"
     ]
    }
   ],
   "source": [
    "my_words = df[df[\"M\"] >= 1][df[\"A\"] >= 2][df[\"N\"] >= 1][df[\"D\"] >= 1][df[\"R\"] >= 1][df[\"K\"] >= 1][df[\"E\"] >= 1].sort_values(by=\"length\")\n",
    "my_words = my_words[0]\n",
    "print(my_words[:50])"
   ]
  },
  {
   "cell_type": "code",
   "execution_count": null,
   "metadata": {},
   "outputs": [],
   "source": []
  }
 ],
 "metadata": {
  "kernelspec": {
   "display_name": "Python 3",
   "language": "python",
   "name": "python3"
  },
  "language_info": {
   "codemirror_mode": {
    "name": "ipython",
    "version": 3
   },
   "file_extension": ".py",
   "mimetype": "text/x-python",
   "name": "python",
   "nbconvert_exporter": "python",
   "pygments_lexer": "ipython3",
   "version": "3.7.6"
  }
 },
 "nbformat": 4,
 "nbformat_minor": 4
}
